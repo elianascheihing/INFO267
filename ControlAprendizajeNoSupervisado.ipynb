{
 "cells": [
  {
   "cell_type": "markdown",
   "metadata": {},
   "source": [
    "# Control Aprendizaje No Supervisado\n",
    "\n",
    "1. **Describa en qué consiste el agrupamiento jerárquico, incluyendo ventajas, desventajas y ejemplo de aplicación** "
   ]
  },
  {
   "cell_type": "markdown",
   "metadata": {},
   "source": [
    "2. **Describa el modelo de mezcla de normales (GMM), incluyendo ventajas, desventajas y ejemplo de aplicación.**"
   ]
  },
  {
   "cell_type": "markdown",
   "metadata": {},
   "source": [
    "**Parte práctica:** Considere los datos adjuntos provenientes de un estudio de caracterización de  estado físico de un grupo de atletas. Los datos contienen los siguientes 10 parámetros para 100 atletas:\n",
    "\n",
    "    - rcc: recuento de glóbulos rojos por litro\n",
    "    - wcc: recuento de glóbulos blancos por litro\n",
    "    - hc: hematocrito (porcentaje)\n",
    "    - hg: concentración de hemaglobina, en gr por 100 ml\n",
    "    - ferr: ferritinas de plasma, ng\n",
    "    - bmi: Índice de masa corporal, kg\n",
    "    - pcBfat: porcentaje de grasa corporal\n",
    "    - lbm: masa corporal magra, kg\n",
    "    - ht: Altura en cm\n",
    "    - wt: peso kg \n",
    "\n",
    "Escoja un método de agrupamiento que estime es adecuado para tratar estos datos. \n",
    "    1. Justifique la elección del método y desarrolle los agrupamientos correspondientes\n",
    "    2. Indique y justifique los valores de los parámetros utilizados. \n",
    "    3. Grafique sus resultados utilizando una proyección de los datos en el primer plano de componentes principales.\n",
    "    4. Interprete sus resultados.\n"
   ]
  },
  {
   "cell_type": "code",
   "execution_count": 4,
   "metadata": {},
   "outputs": [
    {
     "data": {
      "text/plain": [
       "      rcc             wcc               hc              hg       \n",
       " Min.   :3.800   Min.   : 3.300   Min.   :35.90   Min.   :11.60  \n",
       " 1st Qu.:4.168   1st Qu.: 5.800   1st Qu.:38.27   1st Qu.:12.70  \n",
       " Median :4.385   Median : 6.700   Median :40.60   Median :13.50  \n",
       " Mean   :4.404   Mean   : 6.994   Mean   :40.48   Mean   :13.56  \n",
       " 3rd Qu.:4.537   3rd Qu.: 7.950   3rd Qu.:42.30   3rd Qu.:14.30  \n",
       " Max.   :5.330   Max.   :13.300   Max.   :47.10   Max.   :15.90  \n",
       "      ferr             bmi            pcBfat           lbm       \n",
       " Min.   : 12.00   Min.   :16.75   Min.   : 8.07   Min.   :34.36  \n",
       " 1st Qu.: 36.00   1st Qu.:20.27   1st Qu.:13.24   1st Qu.:51.93  \n",
       " Median : 50.00   Median :21.82   Median :17.94   Median :54.92  \n",
       " Mean   : 56.96   Mean   :21.99   Mean   :17.85   Mean   :54.89  \n",
       " 3rd Qu.: 71.50   3rd Qu.:23.39   3rd Qu.:21.36   3rd Qu.:59.40  \n",
       " Max.   :182.00   Max.   :31.93   Max.   :35.52   Max.   :72.98  \n",
       "       ht              wt       \n",
       " Min.   :148.9   Min.   :37.80  \n",
       " 1st Qu.:171.0   1st Qu.:60.08  \n",
       " Median :175.0   Median :68.05  \n",
       " Mean   :174.6   Mean   :67.34  \n",
       " 3rd Qu.:179.7   3rd Qu.:74.42  \n",
       " Max.   :195.9   Max.   :96.30  "
      ]
     },
     "metadata": {},
     "output_type": "display_data"
    }
   ],
   "source": [
    "library(cluster)\n",
    "library(ggplot2)\n",
    "datos <-read.csv(\"datos.csv\",row.names=1,dec=\".\",header=TRUE,sep=\",\")\n",
    "summary(datos)"
   ]
  },
  {
   "cell_type": "code",
   "execution_count": null,
   "metadata": {},
   "outputs": [],
   "source": []
  }
 ],
 "metadata": {
  "kernelspec": {
   "display_name": "R",
   "language": "R",
   "name": "ir"
  },
  "language_info": {
   "codemirror_mode": "r",
   "file_extension": ".r",
   "mimetype": "text/x-r-source",
   "name": "R",
   "pygments_lexer": "r",
   "version": "3.6.1"
  }
 },
 "nbformat": 4,
 "nbformat_minor": 2
}
