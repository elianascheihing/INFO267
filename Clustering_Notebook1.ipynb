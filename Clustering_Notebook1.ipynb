{
 "cells": [
  {
   "cell_type": "markdown",
   "metadata": {},
   "source": [
    "### Notebook 1:  Clustering con K-means\n",
    "En este notebook vamos a implementar el algoritmo de clustering K-means en R. El objetivo es entender como funciona este algoritmo y  aprender a utilizarlo con un ejemplo simple. Se incluye además la estrategia para definir el número de grupos k. Al final se propone un ejercicio con nuevos datos, con el fin de aprender a utilizar el algoritmo. "
   ]
  },
  {
   "cell_type": "code",
   "execution_count": 1,
   "metadata": {},
   "outputs": [
    {
     "data": {
      "text/plain": [
       "     WATER          PROTEIN            FAT           LACTOSE     \n",
       " Min.   :44.90   Min.   : 0.600   Min.   : 1.00   Min.   :0.000  \n",
       " 1st Qu.:71.30   1st Qu.: 3.000   1st Qu.: 3.40   1st Qu.:2.700  \n",
       " Median :82.00   Median : 5.900   Median : 6.30   Median :4.700  \n",
       " Mean   :78.18   Mean   : 6.212   Mean   :10.31   Mean   :4.132  \n",
       " 3rd Qu.:87.70   3rd Qu.: 9.700   3rd Qu.:13.10   3rd Qu.:5.600  \n",
       " Max.   :90.40   Max.   :12.300   Max.   :42.00   Max.   :6.900  \n",
       "      ASH        \n",
       " Min.   :0.1000  \n",
       " 1st Qu.:0.5300  \n",
       " Median :0.8000  \n",
       " Mean   :0.8632  \n",
       " 3rd Qu.:1.1000  \n",
       " Max.   :2.3000  "
      ]
     },
     "metadata": {},
     "output_type": "display_data"
    }
   ],
   "source": [
    "library(cluster)\n",
    "library(ggplot2)\n",
    "\n",
    "#ruta datos\n",
    "#lee datos del archivo de texto como una matriz. La primera #columna se utiliza como vector de nombres de las filas\n",
    "datos <-read.table(\"c:\\\\milk.dat\",row.names=1,dec=\".\",header=TRUE)\n",
    "summary(datos)"
   ]
  },
  {
   "cell_type": "markdown",
   "metadata": {},
   "source": [
    "Ejercicio 1: describa los datos y discuta la pertinencia de realizar un análisis de clustering o agrupamiento"
   ]
  },
  {
   "cell_type": "code",
   "execution_count": 2,
   "metadata": {
    "scrolled": true
   },
   "outputs": [
    {
     "data": {
      "image/png": "[encoded data removed]",
      "text/plain": [
       "plot without title"
      ]
     },
     "metadata": {
      "image/png": {
       "height": 420,
       "width": 420
      },
      "text/plain": {
       "height": 420,
       "width": 420
      }
     },
     "output_type": "display_data"
    }
   ],
   "source": [
    "#ingresar valor de k0 \n",
    "k0=3\n",
    "cl<-kmeans(datos,k0,iter.max=1000,nstart=10)\n",
    "#grafica los datos coloreados con el grupo asignado en planos de pares de variables\n",
    "pairs(datos,col=cl$cluster)"
   ]
  },
  {
   "cell_type": "markdown",
   "metadata": {},
   "source": [
    "Ejercicio 2: Interprete y comente los resultados obtenidos. "
   ]
  },
  {
   "cell_type": "code",
   "execution_count": 3,
   "metadata": {},
   "outputs": [
    {
     "data": {
      "text/html": [
       "<table>\n",
       "<caption>A matrix: 3 × 5 of type dbl</caption>\n",
       "<thead>\n",
       "\t<tr><th scope=col>Comp.1</th><th scope=col>Comp.2</th><th scope=col>Comp.3</th><th scope=col>Comp.4</th><th scope=col>Comp.5</th></tr>\n",
       "</thead>\n",
       "<tbody>\n",
       "\t<tr><td>-3.831081</td><td>-2.2408320</td><td> 0.09790001</td><td>-0.02910750</td><td>-0.029457957</td></tr>\n",
       "\t<tr><td>-1.748439</td><td> 0.5834780</td><td>-0.20968076</td><td> 0.06088255</td><td>-0.002705362</td></tr>\n",
       "\t<tr><td> 1.243827</td><td> 0.0248324</td><td> 0.07949783</td><td>-0.02299768</td><td> 0.004865841</td></tr>\n",
       "</tbody>\n",
       "</table>\n"
      ],
      "text/latex": [
       "A matrix: 3 × 5 of type dbl\n",
       "\\begin{tabular}{r|lllll}\n",
       " Comp.1 & Comp.2 & Comp.3 & Comp.4 & Comp.5\\\\\n",
       "\\hline\n",
       "\t -3.831081 & -2.2408320 &  0.09790001 & -0.02910750 & -0.029457957\\\\\n",
       "\t -1.748439 &  0.5834780 & -0.20968076 &  0.06088255 & -0.002705362\\\\\n",
       "\t  1.243827 &  0.0248324 &  0.07949783 & -0.02299768 &  0.004865841\\\\\n",
       "\\end{tabular}\n"
      ],
      "text/markdown": [
       "\n",
       "A matrix: 3 × 5 of type dbl\n",
       "\n",
       "| Comp.1 | Comp.2 | Comp.3 | Comp.4 | Comp.5 |\n",
       "|---|---|---|---|---|\n",
       "| -3.831081 | -2.2408320 |  0.09790001 | -0.02910750 | -0.029457957 |\n",
       "| -1.748439 |  0.5834780 | -0.20968076 |  0.06088255 | -0.002705362 |\n",
       "|  1.243827 |  0.0248324 |  0.07949783 | -0.02299768 |  0.004865841 |\n",
       "\n"
      ],
      "text/plain": [
       "  Comp.1    Comp.2     Comp.3      Comp.4      Comp.5      \n",
       "1 -3.831081 -2.2408320  0.09790001 -0.02910750 -0.029457957\n",
       "2 -1.748439  0.5834780 -0.20968076  0.06088255 -0.002705362\n",
       "3  1.243827  0.0248324  0.07949783 -0.02299768  0.004865841"
      ]
     },
     "metadata": {},
     "output_type": "display_data"
    },
    {
     "data": {
      "text/plain": [
       "K-means clustering with 3 clusters of sizes 2, 7, 16\n",
       "\n",
       "Cluster means:\n",
       "     WATER   PROTEIN      FAT  LACTOSE      ASH\n",
       "1 45.65000 10.150000 38.45000 0.450000 0.690000\n",
       "2 69.47143  9.514286 16.28571 2.928571 1.432857\n",
       "3 86.06250  4.275000  4.17500 5.118750 0.635625\n",
       "\n",
       "Clustering vector:\n",
       "     HORSE  ORANGUTAN     MONKEY     DONKEY      HIPPO      CAMEL      BISON \n",
       "         3          3          3          3          3          3          3 \n",
       "   BUFFALO GUINEA_PIG        CAT        FOX      LLAMA       MULE        PIG \n",
       "         3          3          3          3          3          3          3 \n",
       "     ZEBRA      SHEEP        DOG   ELEPHANT     RABBIT        RAT       DEER \n",
       "         3          3          2          2          2          2          2 \n",
       "  REINDEER      WHALE       SEAL    DOLPHIN \n",
       "         2          2          1          1 \n",
       "\n",
       "Within cluster sum of squares by cluster:\n",
       "[1]  27.1912 299.9911 377.2215\n",
       " (between_SS / total_SS =  89.9 %)\n",
       "\n",
       "Available components:\n",
       "\n",
       "[1] \"cluster\"      \"centers\"      \"totss\"        \"withinss\"     \"tot.withinss\"\n",
       "[6] \"betweenss\"    \"size\"         \"iter\"         \"ifault\"      "
      ]
     },
     "metadata": {},
     "output_type": "display_data"
    },
    {
     "data": {
      "image/png": "[encoded data removed]",
      "text/plain": [
       "plot without title"
      ]
     },
     "metadata": {
      "image/png": {
       "height": 420,
       "width": 420
      },
      "text/plain": {
       "height": 420,
       "width": 420
      }
     },
     "output_type": "display_data"
    }
   ],
   "source": [
    "#Análisis de Componentes Principales para graficar los grupos obtenidos\n",
    "#Calcula plano de componentes principales y grafica las observaciones con el número de su grupo\n",
    "res <- princomp(datos, cor=TRUE)\n",
    "res2 <- predict(res,cl$centers)\n",
    "res2\n",
    "cl\n",
    "biplot(res,xlabs=cl$cluster)\n",
    "#grafica los centros de cada grupo en el plano de componentes principales utilizando colores distintos\n",
    "points(res2[,1:2],col=1:k0,pch=19)\n"
   ]
  },
  {
   "cell_type": "markdown",
   "metadata": {},
   "source": [
    "Ejercicio 3: Repita el procedimiento considerando 2 y 4 grupos. Discuta sus resultados."
   ]
  },
  {
   "cell_type": "code",
   "execution_count": 4,
   "metadata": {},
   "outputs": [
    {
     "data": {
      "image/png": "[encoded data removed]",
      "text/plain": [
       "Plot with title \"J v/s k en k-means\""
      ]
     },
     "metadata": {
      "image/png": {
       "height": 420,
       "width": 420
      },
      "text/plain": {
       "height": 420,
       "width": 420
      }
     },
     "output_type": "display_data"
    }
   ],
   "source": [
    "#Estrategia para elegir K, el numero de grupos\n",
    "#J suma cuadrado de las distancias por cada k utilizado\n",
    "#K-means\n",
    "J<-rep(0,20)\n",
    "fin_iter<-20\n",
    "\n",
    "\n",
    "for (k in 1:fin_iter){\n",
    "     cl<-kmeans(datos,k,iter.max=1000,nstart=10)\n",
    "\t J[k]<-cl$tot.withinss\n",
    "}\n",
    "\n",
    "\n",
    "plot(1:fin_iter,J,xlab=\"k\",ylab=\"J\",type=\"p\",main=\"J v/s k en k-means\",col=2) "
   ]
  },
  {
   "cell_type": "markdown",
   "metadata": {},
   "source": [
    "Ejercicio 4: de acuerdo al gráfico obtenido, cuál es el valor de K mas apropiado?\n",
    "Agregue código para automatizar este criterio."
   ]
  },
  {
   "cell_type": "markdown",
   "metadata": {},
   "source": [
    "Ejercicio 5: Realice un análisis de clustering con el conjunto de datos DatosUsoFacebook.csv\n",
    "Interprete sus resultados."
   ]
  }
 ],
 "metadata": {
  "celltoolbar": "Raw Cell Format",
  "kernelspec": {
   "display_name": "R",
   "language": "R",
   "name": "ir"
  },
  "language_info": {
   "codemirror_mode": "r",
   "file_extension": ".r",
   "mimetype": "text/x-r-source",
   "name": "R",
   "pygments_lexer": "r",
   "version": "3.6.1"
  }
 },
 "nbformat": 4,
 "nbformat_minor": 2
}
